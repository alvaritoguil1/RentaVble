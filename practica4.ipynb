{
  "nbformat": 4,
  "nbformat_minor": 0,
  "metadata": {
    "colab": {
      "name": "practica4.ipynb",
      "provenance": [],
      "authorship_tag": "ABX9TyNgTY6QemI2qtjVwsmK6EnH",
      "include_colab_link": true
    },
    "kernelspec": {
      "name": "python3",
      "display_name": "Python 3"
    },
    "language_info": {
      "name": "python"
    }
  },
  "cells": [
    {
      "cell_type": "markdown",
      "metadata": {
        "id": "view-in-github",
        "colab_type": "text"
      },
      "source": [
        "<a href=\"https://colab.research.google.com/github/alvaritoguil1/RentaVble/blob/main/practica4.ipynb\" target=\"_parent\"><img src=\"https://colab.research.google.com/assets/colab-badge.svg\" alt=\"Open In Colab\"/></a>"
      ]
    },
    {
      "cell_type": "code",
      "execution_count": null,
      "metadata": {
        "id": "uODsPxK-AHOg"
      },
      "outputs": [],
      "source": [
        "PRACTICA 4, ESTRATEGIA CONDOR\n"
      ]
    },
    {
      "cell_type": "code",
      "source": [
        "\n",
        "import numpy as np\n",
        "import matplotlib.pyplot as plt  \n",
        "#primero elegimos el tipo de estrategia a seguir,, compra o venta\n",
        "print(\"¿COMPRA O VENTA?\")\n",
        "estrategia_condor=input()\n",
        "\n",
        " \n",
        "\n",
        "\n",
        "#Establecenmos el precio de ejercicio de cada activo:\n",
        "PE1 = 90\n",
        "PE2 = 100\n",
        "PE3 = 110\n",
        "PE4 = 120\n",
        "\n",
        "#Establecenos el valor de la prima para cada activo:\n",
        "Prima1 = 4\n",
        "Prima2 = 2\n",
        "Prima3 = 2\n",
        "Prima4 = 4\n",
        "\n",
        "#Numero de opciones por activo:\n",
        "Num1 = 1\n",
        "Num2 = 1\n",
        "Num3 = 1\n",
        "Num4 = 1\n",
        "\n",
        "#definimos el precio del Activo Subyacente y la longitud de S\n",
        "AS = 10\n",
        "S = [*range(PE1 - AS, PE4 + AS)]\n",
        "S\n",
        "R1= [0]*len(S)\n",
        "R2= [0]*len(S)\n",
        "R3= [0]*len(S)\n",
        "R4= [0]*len(S)\n",
        "\n",
        "#Fijamos las condiciones para las diferentes estrategias\n",
        "\n",
        "for i in range(0, len(S)):\n",
        "  if S[i] < PE1:\n",
        "    R1[i] = 0 - Prima1\n",
        "  else:\n",
        "    R1[i] = S[i] - PE1 - Prima1\n",
        "\n",
        "for i in range(0, len(S)):\n",
        "  if S[i] < PE2:\n",
        "    R2[i] = 0 - Prima2\n",
        "  else:\n",
        "    R2[i] = S[i] - PE2 - Prima2\n",
        "\n",
        "for i in range(0, len(S)):\n",
        "  if S[i] < PE3:\n",
        "    R3[i] = 0 - Prima3\n",
        "  else:\n",
        "    R3[i] = S[i] - PE3 - Prima3\n",
        "\n",
        "for i in range(0, len(S)):\n",
        "  if S[i] < PE4:\n",
        "    R4[i] = 0 - Prima4\n",
        "  else:\n",
        "    R4[i] = S[i] - PE4 - Prima4\n",
        "    \n",
        "    \n",
        "\n",
        "R1 = np.array(R1)\n",
        "R2 = np.array(R2)\n",
        "R3 = np.array(R3)\n",
        "R4 = np.array(R4)\n",
        "\n",
        "\n",
        "#Calculamos el resultado final en funcion de la estrategia seleccionada\n",
        "if estrategia_condor == \"venta\":\n",
        "  R1 = R1 * Num1 * -1\n",
        "  R2 = R2 * Num2 \n",
        "  R3 = R3 * Num3 \n",
        "  R4 = R4 * Num4 * -1\n",
        "  \n",
        "if estrategia_condor == \"compra\":\n",
        "  R1 = R1 * Num1 \n",
        "  R2 = R2 * Num2 * -1\n",
        "  R3 = R3 * Num3 * -1\n",
        "  R4 = R4 * Num4 \n",
        "\n",
        "#obtenemos el total \n",
        "\n",
        "Total = R1 + R2 + R3 + R4\n",
        "print(Total)\n",
        "print(S)\n",
        "\n",
        "#graficamos el resultado \n",
        "  \n",
        "\n",
        "from matplotlib import pyplot\n",
        "pyplot.plot(S, Total)\n",
        "\n",
        "pyplot.axhline(0, color=\"black\")\n",
        "pyplot.axvline(0, color=\"black\")\n",
        "\n",
        "pyplot.xlim(70, 140)\n",
        "pyplot.ylim(-10, 10)\n",
        "\n",
        "pyplot.show()\n"
      ],
      "metadata": {
        "colab": {
          "base_uri": "https://localhost:8080/",
          "height": 391
        },
        "id": "_-9wGx9rAMUq",
        "outputId": "a9567d3b-b3af-4e64-a7a4-b20c08dfe7eb"
      },
      "execution_count": 11,
      "outputs": [
        {
          "output_type": "stream",
          "name": "stdout",
          "text": [
            "¿COMPRA O VENTA?\n",
            "venta\n",
            "[ 4  4  4  4  4  4  4  4  4  4  4  3  2  1  0 -1 -2 -3 -4 -5 -6 -6 -6 -6\n",
            " -6 -6 -6 -6 -6 -6 -6 -5 -4 -3 -2 -1  0  1  2  3  4  4  4  4  4  4  4  4\n",
            "  4  4]\n",
            "[80, 81, 82, 83, 84, 85, 86, 87, 88, 89, 90, 91, 92, 93, 94, 95, 96, 97, 98, 99, 100, 101, 102, 103, 104, 105, 106, 107, 108, 109, 110, 111, 112, 113, 114, 115, 116, 117, 118, 119, 120, 121, 122, 123, 124, 125, 126, 127, 128, 129]\n"
          ]
        },
        {
          "output_type": "display_data",
          "data": {
            "text/plain": [
              "<Figure size 432x288 with 1 Axes>"
            ],
            "image/png": "[encoded data removed]"
          },
          "metadata": {
            "needs_background": "light"
          }
        }
      ]
    },
    {
      "cell_type": "code",
      "source": [
        ""
      ],
      "metadata": {
        "id": "oFnupUqtNxAa"
      },
      "execution_count": null,
      "outputs": []
    }
  ]
}