{
  "nbformat": 4,
  "nbformat_minor": 0,
  "metadata": {
    "colab": {
      "name": "Practica3.ipynb",
      "provenance": [],
      "authorship_tag": "ABX9TyNy8NLWNhOszV5PyryGY06/",
      "include_colab_link": true
    },
    "kernelspec": {
      "name": "python3",
      "display_name": "Python 3"
    },
    "language_info": {
      "name": "python"
    }
  },
  "cells": [
    {
      "cell_type": "markdown",
      "metadata": {
        "id": "view-in-github",
        "colab_type": "text"
      },
      "source": [
        "<a href=\"https://colab.research.google.com/github/alvaritoguil1/RentaVble/blob/main/Practica3.ipynb\" target=\"_parent\"><img src=\"https://colab.research.google.com/assets/colab-badge.svg\" alt=\"Open In Colab\"/></a>"
      ]
    },
    {
      "cell_type": "code",
      "source": [
        "PRACTICA 3, ARBOL BINOMIAL\n"
      ],
      "metadata": {
        "id": "kXGD7jP7lEmo"
      },
      "execution_count": null,
      "outputs": []
    },
    {
      "cell_type": "code",
      "source": [
        "#CALCULO DEL PRECIO DE UNA OPCION POR ARBOLES BINOMIAL\n",
        "import numpy as np\n",
        "from scipy.stats import binom\n",
        "#introducimos datosd iniciales\n",
        "tipo=input('Si opcion CALL,1. Si opcion PUT,2') or '1'\n",
        "if tipo=='1':\n",
        "   print('CALL')\n",
        "if tipo=='2':\n",
        "   print('PUT')\n",
        "spot=float(input('Pspot ACTsuby:')or 100)\n",
        "print('Pspot:',spot)\n",
        "strik=float(input('Pejerc strik:')or 110)\n",
        "print('strik:',strik)\n",
        "años=float(input('duracion:')or 2)\n",
        "print('años', años)\n",
        "volatilidad=float(input('volatilidad anual:')or 0.2)\n",
        "print('volatilidad=',volatilidad*100,'%')\n",
        "n=int(input('numero de etapas arbol binomial:') or 4)\n",
        "print('N etapas:',n)\n",
        "tInt=float(input('Rent sin riesgo:')or 0.07)\n",
        "print('tipo intres:',tInt*100,'%')\n",
        "#Calculamos el calor del tanto instantaneo,r\n",
        "r=np.log(1+tInt)\n",
        "#calculamos u,d,py el incremento de t\n",
        "dT=años/n\n",
        "u=np.exp(volatilidad*np.sqrt(dT))\n",
        "d=1/u\n",
        "p=(np.exp(r*dT)-d)/(u-d)\n",
        "#Generamos los precios que se esperan del activo en su vto\n",
        "Sn=[0]*(n+1) #siendo Sn el array de P de ActSub\n",
        "print('u',u,'p',p,'dT',dT)\n",
        "for i in range(n+1):\n",
        "  Sn[i]=spot*u**(n-1)*d**(i)\n",
        "#calculamos el payoff en funcion de si es CALL o PUT\n",
        "payoff=[0]*(n+1)\n",
        "for i in range (n+1):\n",
        "  if tipo=='1':\n",
        "      payoff[i]=max(0,Sn[i]-strik)\n",
        "  if tipo=='2':\n",
        "      payoff[i]=max(0,strik-Sn[i])  \n",
        "#calculamos en valor de la prima a pagar\n",
        "prima=0\n",
        "for i in range (n+1):\n",
        "  prima+=payoff[i]*binom.pmf(n-1,n,p)\n",
        "\n",
        "\n",
        "  #descontamos el valor de la prima para saber su valor en t=0\n",
        "prima=prima*np.exp(-r*años) \n",
        "print('el valor actual de prima es', prima)\n",
        "\n"
      ],
      "metadata": {
        "colab": {
          "base_uri": "https://localhost:8080/"
        },
        "id": "N5B32W76lJKh",
        "outputId": "6f16e079-2fef-48ff-dcdd-a340b8c66970"
      },
      "execution_count": 9,
      "outputs": [
        {
          "output_type": "stream",
          "name": "stdout",
          "text": [
            "Si opcion CALL,1. Si opcion PUT,2\n",
            "CALL\n",
            "Pspot ACTsuby:\n",
            "Pspot: 100.0\n",
            "Pejerc strik:\n",
            "strik: 110.0\n",
            "duracion:\n",
            "años 2.0\n",
            "volatilidad anual:\n",
            "volatilidad= 20.0 %\n",
            "numero de etapas arbol binomial:\n",
            "N etapas: 4\n",
            "Rent sin riesgo:\n",
            "tipo intres: 7.000000000000001 %\n",
            "u 1.151909910168909 p 0.5859497140447129 dT 0.5\n",
            "el valor actual de prima es 20.583192238785873\n"
          ]
        }
      ]
    },
    {
      "cell_type": "markdown",
      "source": [
        ""
      ],
      "metadata": {
        "id": "LBo7j_SBlB_r"
      }
    }
  ]
}