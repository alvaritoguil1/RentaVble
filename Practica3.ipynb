{
  "nbformat": 4,
  "nbformat_minor": 0,
  "metadata": {
    "colab": {
      "name": "Practica3.ipynb",
      "provenance": [],
      "authorship_tag": "ABX9TyPhGBnSOX2Y3xD5EIKjy4jK",
      "include_colab_link": true
    },
    "kernelspec": {
      "name": "python3",
      "display_name": "Python 3"
    },
    "language_info": {
      "name": "python"
    }
  },
  "cells": [
    {
      "cell_type": "markdown",
      "metadata": {
        "id": "view-in-github",
        "colab_type": "text"
      },
      "source": [
        "<a href=\"https://colab.research.google.com/github/alvaritoguil1/RentaVble/blob/main/Practica3.ipynb\" target=\"_parent\"><img src=\"https://colab.research.google.com/assets/colab-badge.svg\" alt=\"Open In Colab\"/></a>"
      ]
    },
    {
      "cell_type": "code",
      "source": [
        "PRACTICA 3, ARBOL BINOMIAL\n"
      ],
      "metadata": {
        "id": "kXGD7jP7lEmo"
      },
      "execution_count": null,
      "outputs": []
    },
    {
      "cell_type": "code",
      "source": [
        "#CALCULO DEL PRECIO DE UNA OPCION POR ARBOLES BINOMIAL\n",
        "import numpy as np\n",
        "from scipy.stats import binom\n",
        "#introducimos datosd iniciales\n",
        "tipo=input('Si opcion CALL,1. Si opcion PUT,2') or '1'\n",
        "if tipo=='1':\n",
        "   print('CALL')\n",
        "if tipo=='2':\n",
        "   print('PUT')\n",
        "spot=float(input('Pspot ACTsuby:')or 100)\n",
        "print('Pspot:',spot)\n",
        "strik=float(input('Pejerc strik:')or 110)\n",
        "print('strik:',strik)\n",
        "años=float(input('duracion:')or 2)\n",
        "print('años', años)\n",
        "volatilidad=float(input('volatilidad anual:')or 0.2)\n",
        "print('volatilidad=',volatilidad*100,'%')\n",
        "n=int(input('numero de etapas arbol binomial:') or 4)\n",
        "print('N etapas:',n)\n",
        "tInt=float(input('Rent sin riesgo:')or 0.07)\n",
        "print('tipo intres:',tInt*100,'%')\n",
        "#Calculamos el calor del tanto instantaneo,r\n",
        "r=np.log(1+tInt)\n",
        "#calculamos u,d,py el incremento de t\n",
        "dT=años/n\n",
        "u=np.exp(volatilidad*np.sqrt(dT))\n",
        "d=1/u\n",
        "p=(np.exp(r*dT)-d)/(u-d)\n",
        "#Generamos los precios que se esperan del activo en su vto\n",
        "Sn=[0]*(n+1) #siendo Sn el array de P de ActSub\n",
        "print('u',u,'p',p,'dT',dT)\n",
        "for i in range(n+1):\n",
        "  Sn[i]=spot*u**(n-1)*d**(i)\n",
        "#calculamos el payoff en funcion de si es CALL o PUT\n",
        "payoff=[0]*(n+1)\n",
        "for i in range (n+1):\n",
        "  if tipo=='1':\n",
        "      payoff[i]=max(0,Sn[i]-strik)\n",
        "  if tipo=='2':\n",
        "      payoff[i]=max(0,strik-Sn[i])  \n",
        "#calculamos en valor de la prima a pagar\n",
        "prima=0\n",
        "for i in range (n+1):\n",
        "  prima+=payoff[i]*binom.pmf(n-1,n,p)\n",
        "\n",
        "\n",
        "  #descontamos el valor de la prima para saber su valor en t=0\n",
        "prima=prima*np.exp(-r*años) \n",
        "print('el valor actual de prima es', prima)\n",
        "\n"
      ],
      "metadata": {
        "colab": {
          "base_uri": "https://localhost:8080/"
        },
        "id": "N5B32W76lJKh",
        "outputId": "6f16e079-2fef-48ff-dcdd-a340b8c66970"
      },
      "execution_count": null,
      "outputs": [
        {
          "output_type": "stream",
          "name": "stdout",
          "text": [
            "Si opcion CALL,1. Si opcion PUT,2\n",
            "CALL\n",
            "Pspot ACTsuby:\n",
            "Pspot: 100.0\n",
            "Pejerc strik:\n",
            "strik: 110.0\n",
            "duracion:\n",
            "años 2.0\n",
            "volatilidad anual:\n",
            "volatilidad= 20.0 %\n",
            "numero de etapas arbol binomial:\n",
            "N etapas: 4\n",
            "Rent sin riesgo:\n",
            "tipo intres: 7.000000000000001 %\n",
            "u 1.151909910168909 p 0.5859497140447129 dT 0.5\n",
            "el valor actual de prima es 20.583192238785873\n"
          ]
        }
      ]
    },
    {
      "cell_type": "markdown",
      "source": [
        ""
      ],
      "metadata": {
        "id": "2asS9irMsTo1"
      }
    },
    {
      "cell_type": "code",
      "source": [
        "import numpy as np\n",
        "from scipy.stats import binom\n",
        "def prima(tipo,spot,strik,años,volatilidad,n,tInt):\n",
        "    r=np.log(1+tInt) #calculamos en tanto instanteneo\n",
        "    dT=años/n #dif años\n",
        "    u=np.exp(volatilidad*np.sqrt(dT)) #factor de subida\n",
        "    d=1/u #factor de bajada\n",
        "    p=(np.exp(r*dT)-d)/(u-d) #prob subida\n",
        "    Sn=[0]*(n+1) #lista de P del activo en vto\n",
        "    payoff=[0]*(n+1)\n",
        "    prima=0\n",
        "    for i in range (n+1):\n",
        "        Sn[i]=spot*u**(n-i)*d**i\n",
        "        if tipo.lower()=='call':  #ponemos lower para transformar en minisculas\n",
        "         payoff[i]=max(0,Sn[i]-strik)\n",
        "        if tipo.lower()=='put':\n",
        "         payoff[i]=max(0,strik-Sn[i])\n",
        "        prima+=payoff[i]*binom.pmf(n-i,n,p)   \n",
        "    prima*=np.exp(-r*años) #calculamos el valor de la prima en el valor actual\n",
        "\n",
        "    return prima\n",
        "\n",
        "\n",
        "m=50 # m es el numero de pasos\n",
        "evolucion=[0]*50\n",
        "for j in range(m):\n",
        "    evolucion[j]=prima(\"call\",100,110,2,0.2,j+1,0.07)\n",
        "    print('prima(',j+1,')=',evolucion[j])\n",
        "\n",
        "print(prima('put',100,105,7/12,0.4,5,np.exp(0.08)-1))  \n",
        "  \n",
        "\n",
        "\n"
      ],
      "metadata": {
        "id": "h83AVhSKr7NC",
        "outputId": "bc24558f-452a-44b2-ef44-61b2a4ea4812",
        "colab": {
          "base_uri": "https://localhost:8080/"
        }
      },
      "execution_count": 9,
      "outputs": [
        {
          "output_type": "stream",
          "name": "stdout",
          "text": [
            "prima( 1 )= 13.526244372788291\n",
            "prima( 2 )= 13.326007505361297\n",
            "prima( 3 )= 12.955004108763408\n",
            "prima( 4 )= 13.40537517647125\n",
            "prima( 5 )= 12.786892725616063\n",
            "prima( 6 )= 13.360760111814583\n",
            "prima( 7 )= 12.711196366441039\n",
            "prima( 8 )= 13.308719736990822\n",
            "prima( 9 )= 12.694142728070299\n",
            "prima( 10 )= 13.262106777562408\n",
            "prima( 11 )= 12.867200775539498\n",
            "prima( 12 )= 13.221912122698035\n",
            "prima( 13 )= 12.971001805772785\n",
            "prima( 14 )= 13.18728832056384\n",
            "prima( 15 )= 13.036320087551884\n",
            "prima( 16 )= 13.157233420313245\n",
            "prima( 17 )= 13.078599277371477\n",
            "prima( 18 )= 13.130895229889273\n",
            "prima( 19 )= 13.10631236165244\n",
            "prima( 20 )= 13.107597578910786\n",
            "prima( 21 )= 13.12442858650907\n",
            "prima( 22 )= 13.086811822664245\n",
            "prima( 23 )= 13.136017205486207\n",
            "prima( 24 )= 13.068123634429478\n",
            "prima( 25 )= 13.143053892795372\n",
            "prima( 26 )= 13.051205492900383\n",
            "prima( 27 )= 13.14685389723049\n",
            "prima( 28 )= 13.035795740872294\n",
            "prima( 29 )= 13.148317519585047\n",
            "prima( 30 )= 13.021683036545353\n",
            "prima( 31 )= 13.148075554812564\n",
            "prima( 32 )= 13.00869485179341\n",
            "prima( 33 )= 13.146578756116638\n",
            "prima( 34 )= 12.996688922132064\n",
            "prima( 35 )= 13.144154657345544\n",
            "prima( 36 )= 12.99861941157519\n",
            "prima( 37 )= 13.141044676484228\n",
            "prima( 38 )= 13.018929493010559\n",
            "prima( 39 )= 13.137428935671068\n",
            "prima( 40 )= 13.036011287189423\n",
            "prima( 41 )= 13.133443220942612\n",
            "prima( 42 )= 13.050410409827851\n",
            "prima( 43 )= 13.12919079123746\n",
            "prima( 44 )= 13.062564165880335\n",
            "prima( 45 )= 13.12475074008116\n",
            "prima( 46 )= 13.072826370989507\n",
            "prima( 47 )= 13.120184005982425\n",
            "prima( 48 )= 13.081485753546241\n",
            "prima( 49 )= 13.115537751548164\n",
            "prima( 50 )= 13.088779775717725\n",
            "12.679144560999395\n"
          ]
        }
      ]
    },
    {
      "cell_type": "code",
      "source": [
        ""
      ],
      "metadata": {
        "id": "nkGBC74bz7W6"
      },
      "execution_count": null,
      "outputs": []
    }
  ]
}